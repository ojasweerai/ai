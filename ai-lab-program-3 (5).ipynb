{
 "cells": [
  {
   "cell_type": "markdown",
   "metadata": {
    "_cell_guid": "b1076dfc-b9ad-4769-8c92-a6c4dae69d19",
    "_uuid": "8f2839f25d086af736a60e9eeb907d3b93b6e0e5",
    "papermill": {
     "duration": 0.006922,
     "end_time": "2020-10-12T05:04:22.695406",
     "exception": false,
     "start_time": "2020-10-12T05:04:22.688484",
     "status": "completed"
    },
    "tags": []
   },
   "source": [
    "# 8 Puzzle Problem"
   ]
  },
  {
   "cell_type": "markdown",
   "metadata": {
    "_cell_guid": "79c7e3d0-c299-4dcb-8224-4455121ee9b0",
    "_uuid": "d629ff2d2480ee46fbb7e2d37f6b5fab8052498a",
    "collapsed": true,
    "papermill": {
     "duration": 0.005665,
     "end_time": "2020-10-12T05:04:22.707457",
     "exception": false,
     "start_time": "2020-10-12T05:04:22.701792",
     "status": "completed"
    },
    "tags": []
   },
   "source": [
    "BMS College of Engineering - Dr Kavitha Sooda <br />\n",
    "BMS College of Engineering - Dr Nagarathna N <br />\n",
    "BMS College of Engineering - Prof G R Asha  <br />\n",
    "##### Class 5C"
   ]
  },
  {
   "cell_type": "markdown",
   "metadata": {
    "papermill": {
     "duration": 0.005649,
     "end_time": "2020-10-12T05:04:22.719065",
     "exception": false,
     "start_time": "2020-10-12T05:04:22.713416",
     "status": "completed"
    },
    "tags": []
   },
   "source": [
    "## Objective\n",
    " Given a 3×3 board with 8 tiles and one empty space \n",
    " - Move the numbers around to match the final configuration using the empty spot \n",
    " - You can slide the numbers from above, below, left and right tiles into the empty space.\n",
    "![](https://media.geeksforgeeks.org/wp-content/uploads/puzzle8init.jpg)"
   ]
  },
  {
   "cell_type": "markdown",
   "metadata": {
    "papermill": {
     "duration": 0.005666,
     "end_time": "2020-10-12T05:04:22.730663",
     "exception": false,
     "start_time": "2020-10-12T05:04:22.724997",
     "status": "completed"
    },
    "tags": []
   },
   "source": [
    "Try and use a Brute Force Algorithms\n",
    "\n",
    "![](https://media.geeksforgeeks.org/wp-content/uploads/puzzle-1.jpg)"
   ]
  },
  {
   "cell_type": "code",
   "execution_count": 1,
   "metadata": {
    "execution": {
     "iopub.execute_input": "2020-10-12T05:04:22.749786Z",
     "iopub.status.busy": "2020-10-12T05:04:22.749125Z",
     "iopub.status.idle": "2020-10-12T05:04:22.751659Z",
     "shell.execute_reply": "2020-10-12T05:04:22.752139Z"
    },
    "papermill": {
     "duration": 0.015763,
     "end_time": "2020-10-12T05:04:22.752301",
     "exception": false,
     "start_time": "2020-10-12T05:04:22.736538",
     "status": "completed"
    },
    "tags": []
   },
   "outputs": [],
   "source": [
    "# Bredth first search in search of target - Using Brute Force Algorithms\n",
    "def bfs(src, target):\n",
    "    visited_states=[]\n",
    "    visited_states.append(src)\n",
    "    arr = [src]\n",
    "    c = 0\n",
    "    while arr:\n",
    "        c += 1                                           # Calculate Number of Iterations                                   # Print current state to check\n",
    "        if arr[0] == target:                             # break if target found\n",
    "            return True\n",
    "        arr += possible_moves(arr[0],visited_states)                    # else Add all possible moves to arr\n",
    "        visited_states.append(arr[0])  \n",
    "        arr.pop(0)                                       # remove checked move from arr                                  \n",
    "    return False"
   ]
  },
  {
   "cell_type": "code",
   "execution_count": 2,
   "metadata": {
    "execution": {
     "iopub.execute_input": "2020-10-12T05:04:22.774211Z",
     "iopub.status.busy": "2020-10-12T05:04:22.773475Z",
     "iopub.status.idle": "2020-10-12T05:04:22.775753Z",
     "shell.execute_reply": "2020-10-12T05:04:22.776231Z"
    },
    "papermill": {
     "duration": 0.017781,
     "end_time": "2020-10-12T05:04:22.776364",
     "exception": false,
     "start_time": "2020-10-12T05:04:22.758583",
     "status": "completed"
    },
    "tags": []
   },
   "outputs": [],
   "source": [
    "# Find Possible Moves\n",
    "def possible_moves(state,visited_states): \n",
    "    ind = state.index(-1)\n",
    "    d=[]\n",
    "    if ind+3 in range(9):\n",
    "        d.append('d')\n",
    "    if ind-3 in range(9):\n",
    "        d.append('u')\n",
    "    if ind not in [0,3,6]:\n",
    "        d.append('l')\n",
    "    if ind not in [2,5,8]:\n",
    "        d.append('r')\n",
    "    pos_moves=[]\n",
    "    for move in d:\n",
    "        pos_moves.append(gen(state,move,ind))\n",
    "    return [move for move in pos_moves if move not in visited_states]\n",
    "\n"
   ]
  },
  {
   "cell_type": "code",
   "execution_count": 3,
   "metadata": {
    "execution": {
     "iopub.execute_input": "2020-10-12T05:04:22.796872Z",
     "iopub.status.busy": "2020-10-12T05:04:22.796213Z",
     "iopub.status.idle": "2020-10-12T05:04:22.798835Z",
     "shell.execute_reply": "2020-10-12T05:04:22.798233Z"
    },
    "papermill": {
     "duration": 0.016351,
     "end_time": "2020-10-12T05:04:22.798943",
     "exception": false,
     "start_time": "2020-10-12T05:04:22.782592",
     "status": "completed"
    },
    "tags": []
   },
   "outputs": [],
   "source": [
    "# Generate move for given direction\n",
    "def gen(state, direction, b):\n",
    "    temp=state.copy()\n",
    "    if direction=='d':\n",
    "        a = temp[b+3]\n",
    "        temp[b+3]=temp[b]\n",
    "        temp[b]=a\n",
    "    elif direction=='u':\n",
    "        a = temp[b-3]\n",
    "        temp[b-3]=temp[b]\n",
    "        temp[b]=a\n",
    "    elif direction=='l':\n",
    "        a = temp[b-1]\n",
    "        temp[b-1]=temp[b]\n",
    "        temp[b]=a\n",
    "    elif direction=='r':\n",
    "        a = temp[b+1]\n",
    "        temp[b+1]=temp[b]\n",
    "        temp[b]=a\n",
    "    return temp\n"
   ]
  },
  {
   "cell_type": "code",
   "execution_count": 4,
   "metadata": {
    "execution": {
     "iopub.execute_input": "2020-10-12T05:04:22.819243Z",
     "iopub.status.busy": "2020-10-12T05:04:22.818431Z",
     "iopub.status.idle": "2020-10-12T05:04:22.822453Z",
     "shell.execute_reply": "2020-10-12T05:04:22.821954Z"
    },
    "papermill": {
     "duration": 0.017242,
     "end_time": "2020-10-12T05:04:22.822557",
     "exception": false,
     "start_time": "2020-10-12T05:04:22.805315",
     "status": "completed"
    },
    "tags": []
   },
   "outputs": [
    {
     "data": {
      "text/plain": [
       "True"
      ]
     },
     "execution_count": 4,
     "metadata": {},
     "output_type": "execute_result"
    }
   ],
   "source": [
    "#Test 1\n",
    "src = [1,2,3,-1,4,5,6,7,8]\n",
    "target = [1,2,3,4,5,-1,6,7,8]         \n",
    "       \n",
    "\n",
    "\n",
    "bfs(src, target) "
   ]
  },
  {
   "cell_type": "code",
   "execution_count": 5,
   "metadata": {
    "execution": {
     "iopub.execute_input": "2020-10-12T05:04:22.842609Z",
     "iopub.status.busy": "2020-10-12T05:04:22.841915Z",
     "iopub.status.idle": "2020-10-12T05:04:22.845424Z",
     "shell.execute_reply": "2020-10-12T05:04:22.844836Z"
    },
    "papermill": {
     "duration": 0.015921,
     "end_time": "2020-10-12T05:04:22.845528",
     "exception": false,
     "start_time": "2020-10-12T05:04:22.829607",
     "status": "completed"
    },
    "tags": []
   },
   "outputs": [
    {
     "data": {
      "text/plain": [
       "True"
      ]
     },
     "execution_count": 5,
     "metadata": {},
     "output_type": "execute_result"
    }
   ],
   "source": [
    "# Test 2\n",
    "src = [1,2,3,-1,4,5,6,7,8] \n",
    "target=[1,2,3,6,4,5,-1,7,8]\n",
    "\n",
    "\n",
    "\n",
    "bfs(src, target)"
   ]
  },
  {
   "cell_type": "markdown",
   "metadata": {
    "papermill": {
     "duration": 0.006815,
     "end_time": "2020-10-12T05:04:22.859598",
     "exception": false,
     "start_time": "2020-10-12T05:04:22.852783",
     "status": "completed"
    },
    "tags": []
   },
   "source": [
    "# Challenge"
   ]
  },
  {
   "cell_type": "markdown",
   "metadata": {
    "papermill": {
     "duration": 0.006815,
     "end_time": "2020-10-12T05:04:22.873535",
     "exception": false,
     "start_time": "2020-10-12T05:04:22.866720",
     "status": "completed"
    },
    "tags": []
   },
   "source": [
    "1. Change the above functions to add memory so the a site already checked isnt visited again\n",
    "2. Try another brute force algorithm to find the solution"
   ]
  }
 ],
 "metadata": {
  "kernelspec": {
   "display_name": "Python 3",
   "language": "python",
   "name": "python3"
  },
  "language_info": {
   "codemirror_mode": {
    "name": "ipython",
    "version": 3
   },
   "file_extension": ".py",
   "mimetype": "text/x-python",
   "name": "python",
   "nbconvert_exporter": "python",
   "pygments_lexer": "ipython3",
   "version": "3.7.6"
  },
  "papermill": {
   "duration": 4.501078,
   "end_time": "2020-10-12T05:04:22.987676",
   "environment_variables": {},
   "exception": null,
   "input_path": "__notebook__.ipynb",
   "output_path": "__notebook__.ipynb",
   "parameters": {},
   "start_time": "2020-10-12T05:04:18.486598",
   "version": "2.1.0"
  }
 },
 "nbformat": 4,
 "nbformat_minor": 4
}
